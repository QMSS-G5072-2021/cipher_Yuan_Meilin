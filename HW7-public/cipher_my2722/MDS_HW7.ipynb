{
 "cells": [
  {
   "cell_type": "markdown",
   "id": "7108eca4",
   "metadata": {},
   "source": [
    "### - provide a link to your TestPyPi package and the repo of your package\n",
    "- link to testpypi: https://test.pypi.org/project/cipher-my2722/\n",
    "- link to repo: https://github.com/QMSS-G5072-2021/cipher_Yuan_Meilin"
   ]
  },
  {
   "cell_type": "markdown",
   "id": "694b4300",
   "metadata": {},
   "source": [
    "### - directly install your package from TestPyPi (using !pip ...)"
   ]
  },
  {
   "cell_type": "code",
   "execution_count": 1,
   "id": "baf093ad",
   "metadata": {},
   "outputs": [
    {
     "name": "stdout",
     "output_type": "stream",
     "text": [
      "Looking in indexes: https://test.pypi.org/simple/\n",
      "Requirement already satisfied: cipher-my2722 in /Applications/anaconda3/envs/py39/lib/python3.9/site-packages (0.1.0)\n",
      "Note: you may need to restart the kernel to use updated packages.\n"
     ]
    }
   ],
   "source": [
    "pip install -i https://test.pypi.org/simple/ cipher-my2722"
   ]
  },
  {
   "cell_type": "markdown",
   "id": "fbaaec36",
   "metadata": {},
   "source": [
    "### - import your package"
   ]
  },
  {
   "cell_type": "code",
   "execution_count": 2,
   "id": "fa615316",
   "metadata": {},
   "outputs": [],
   "source": [
    "from cipher_my2722 import cipher_my2722"
   ]
  },
  {
   "cell_type": "markdown",
   "id": "0f405717",
   "metadata": {},
   "source": [
    "### - run the cipher function for an example"
   ]
  },
  {
   "cell_type": "code",
   "execution_count": 3,
   "id": "a6c56c30",
   "metadata": {},
   "outputs": [
    {
     "data": {
      "text/plain": [
       "'Ifmmp'"
      ]
     },
     "execution_count": 3,
     "metadata": {},
     "output_type": "execute_result"
    }
   ],
   "source": [
    "text = \"Hello\"\n",
    "shift = 1\n",
    "cipher_my2722.cipher(text, shift)"
   ]
  },
  {
   "cell_type": "markdown",
   "id": "48fb4a6c",
   "metadata": {},
   "source": [
    "### - show the output of help(<yourpackage>) and help(<yourpackage>.cipher)"
   ]
  },
  {
   "cell_type": "code",
   "execution_count": 4,
   "id": "684df789",
   "metadata": {},
   "outputs": [
    {
     "name": "stdout",
     "output_type": "stream",
     "text": [
      "Help on module cipher_my2722.cipher_my2722 in cipher_my2722:\n",
      "\n",
      "NAME\n",
      "    cipher_my2722.cipher_my2722 - # coding: utf-8\n",
      "\n",
      "FUNCTIONS\n",
      "    cipher(text, shift, encrypt=True)\n",
      "        One of the simplest and most widely known encryption techniques \n",
      "        \n",
      "        Inputs\n",
      "        ----------\n",
      "        a word / words / text contains symbols / a sentence\n",
      "        \n",
      "        Outputs\n",
      "        -------\n",
      "        each letter in inputs is replaced by a letter some fixed number of positions down the alphabet\n",
      "        \n",
      "        Examples\n",
      "        --------\n",
      "        >>> example = 'hello'\n",
      "        \n",
      "        >>> encrypting = cipher(example, 1, True)\n",
      "        >>> print(encrypting)\n",
      "        ifmmp\n",
      "        \n",
      "        >>> decrypting = cipher(encrypting, 1, False)\n",
      "        >>> print(decrypting)\n",
      "        hello\n",
      "\n",
      "FILE\n",
      "    /Applications/anaconda3/envs/py39/lib/python3.9/site-packages/cipher_my2722/cipher_my2722.py\n",
      "\n",
      "\n"
     ]
    }
   ],
   "source": [
    "help(cipher_my2722)"
   ]
  },
  {
   "cell_type": "code",
   "execution_count": 5,
   "id": "87ca25c6",
   "metadata": {},
   "outputs": [
    {
     "name": "stdout",
     "output_type": "stream",
     "text": [
      "Help on function cipher in module cipher_my2722.cipher_my2722:\n",
      "\n",
      "cipher(text, shift, encrypt=True)\n",
      "    One of the simplest and most widely known encryption techniques \n",
      "    \n",
      "    Inputs\n",
      "    ----------\n",
      "    a word / words / text contains symbols / a sentence\n",
      "    \n",
      "    Outputs\n",
      "    -------\n",
      "    each letter in inputs is replaced by a letter some fixed number of positions down the alphabet\n",
      "    \n",
      "    Examples\n",
      "    --------\n",
      "    >>> example = 'hello'\n",
      "    \n",
      "    >>> encrypting = cipher(example, 1, True)\n",
      "    >>> print(encrypting)\n",
      "    ifmmp\n",
      "    \n",
      "    >>> decrypting = cipher(encrypting, 1, False)\n",
      "    >>> print(decrypting)\n",
      "    hello\n",
      "\n"
     ]
    }
   ],
   "source": [
    "help(cipher_my2722.cipher)"
   ]
  }
 ],
 "metadata": {
  "kernelspec": {
   "display_name": "Python 3 (ipykernel)",
   "language": "python",
   "name": "python3"
  },
  "language_info": {
   "codemirror_mode": {
    "name": "ipython",
    "version": 3
   },
   "file_extension": ".py",
   "mimetype": "text/x-python",
   "name": "python",
   "nbconvert_exporter": "python",
   "pygments_lexer": "ipython3",
   "version": "3.9.7"
  }
 },
 "nbformat": 4,
 "nbformat_minor": 5
}
